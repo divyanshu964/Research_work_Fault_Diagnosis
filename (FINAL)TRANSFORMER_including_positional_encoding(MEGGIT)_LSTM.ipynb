{
  "nbformat": 4,
  "nbformat_minor": 0,
  "metadata": {
    "colab": {
      "name": "(FINAL)TRANSFORMER-including_positional_encoding(MEGGIT) --LSTM",
      "provenance": [],
      "collapsed_sections": []
    },
    "kernelspec": {
      "display_name": "Python 3",
      "language": "python",
      "name": "python3"
    },
    "language_info": {
      "codemirror_mode": {
        "name": "ipython",
        "version": 3
      },
      "file_extension": ".py",
      "mimetype": "text/x-python",
      "name": "python",
      "nbconvert_exporter": "python",
      "pygments_lexer": "ipython3",
      "version": "3.7.0"
    }
  },
  "cells": [
    {
      "cell_type": "markdown",
      "metadata": {
        "id": "4pRqO3AMTMNo"
      },
      "source": [
        "Transformer\n",
        "\n",
        "**Author:** [Divyanshu Raghuwanshi]()<br>\n",
        "**Date created:** 2021/03/31<br>\n",
        "**Last modified:** 2021/03/31<br>\n",
        "**Description:** Implement a Transformer block as a Keras layer and use it for fault classification."
      ]
    },
    {
      "cell_type": "markdown",
      "metadata": {
        "id": "xnAENkcHTMNt"
      },
      "source": [
        "## Setup"
      ]
    },
    {
      "cell_type": "code",
      "metadata": {
        "id": "7Aie5cs0TMNu"
      },
      "source": [
        "import tensorflow as tf\n",
        "from tensorflow import keras\n",
        "from tensorflow.keras import layers\n",
        "from numpy import mean\n",
        "from numpy import std\n",
        "from numpy import dstack\n",
        "from pandas import read_csv\n",
        "from sklearn.model_selection import train_test_split\n",
        "import pandas as pd\n",
        "from google.colab import drive"
      ],
      "execution_count": null,
      "outputs": []
    },
    {
      "cell_type": "code",
      "metadata": {
        "colab": {
          "base_uri": "https://localhost:8080/"
        },
        "id": "ElFCg3Gpcn3N",
        "outputId": "aa149bdf-e04d-4bff-c7b1-0216fd7f2892"
      },
      "source": [
        "import sys\n",
        "!{sys.executable} -m pip install xlsxwriter"
      ],
      "execution_count": null,
      "outputs": [
        {
          "output_type": "stream",
          "text": [
            "Collecting xlsxwriter\n",
            "  Downloading XlsxWriter-3.0.1-py3-none-any.whl (148 kB)\n",
            "\u001b[?25l\r\u001b[K     |██▏                             | 10 kB 25.0 MB/s eta 0:00:01\r\u001b[K     |████▍                           | 20 kB 27.7 MB/s eta 0:00:01\r\u001b[K     |██████▋                         | 30 kB 12.0 MB/s eta 0:00:01\r\u001b[K     |████████▉                       | 40 kB 9.2 MB/s eta 0:00:01\r\u001b[K     |███████████                     | 51 kB 5.2 MB/s eta 0:00:01\r\u001b[K     |█████████████▏                  | 61 kB 5.7 MB/s eta 0:00:01\r\u001b[K     |███████████████▍                | 71 kB 5.4 MB/s eta 0:00:01\r\u001b[K     |█████████████████▋              | 81 kB 6.0 MB/s eta 0:00:01\r\u001b[K     |███████████████████▉            | 92 kB 4.6 MB/s eta 0:00:01\r\u001b[K     |██████████████████████          | 102 kB 4.9 MB/s eta 0:00:01\r\u001b[K     |████████████████████████▎       | 112 kB 4.9 MB/s eta 0:00:01\r\u001b[K     |██████████████████████████▍     | 122 kB 4.9 MB/s eta 0:00:01\r\u001b[K     |████████████████████████████▋   | 133 kB 4.9 MB/s eta 0:00:01\r\u001b[K     |██████████████████████████████▉ | 143 kB 4.9 MB/s eta 0:00:01\r\u001b[K     |████████████████████████████████| 148 kB 4.9 MB/s \n",
            "\u001b[?25hInstalling collected packages: xlsxwriter\n",
            "Successfully installed xlsxwriter-3.0.1\n"
          ],
          "name": "stdout"
        }
      ]
    },
    {
      "cell_type": "code",
      "metadata": {
        "id": "XXyRLs0Mcssk"
      },
      "source": [
        "import xlsxwriter"
      ],
      "execution_count": null,
      "outputs": []
    },
    {
      "cell_type": "markdown",
      "metadata": {
        "id": "HbI2ad1PTMNu"
      },
      "source": [
        "## Implement a Transformer block as a layer"
      ]
    },
    {
      "cell_type": "code",
      "metadata": {
        "id": "Kq4bDSvrTMNv"
      },
      "source": [
        "class TransformerBlock(layers.Layer):\n",
        "    def __init__(self, maxlen, embed_dim, num_heads, ff_dim, rate=0.1):\n",
        "        super(TransformerBlock, self).__init__()\n",
        "        self.att = layers.MultiHeadAttention(num_heads=num_heads, key_dim=embed_dim)\n",
        "        \n",
        "        self.ffn = keras.Sequential(\n",
        "            [layers.LSTM(48, input_shape=(maxlen,embed_dim), return_sequences=True),layers.Dense(ff_dim, activation=\"relu\"), layers.Dense(embed_dim),]\n",
        "        )\n",
        "        #self.ffn = keras.Sequential(\n",
        "        #   [layers.LSTM(16, input_shape=(maxlen,embed_dim),]\n",
        "        #)\n",
        "\n",
        "        self.layernorm1 = layers.LayerNormalization(epsilon=1e-6)\n",
        "        self.layernorm2 = layers.LayerNormalization(epsilon=1e-6)\n",
        "        self.dropout1 = layers.Dropout(rate)\n",
        "        self.dropout2 = layers.Dropout(rate)\n",
        "\n",
        "    def call(self, inputs, training):\n",
        "        attn_output = self.att(inputs, inputs)\n",
        "        attn_output = self.dropout1(attn_output, training=training)\n",
        "        out1 = self.layernorm1(inputs + attn_output)\n",
        "        ffn_output = self.ffn(out1)\n",
        "        ffn_output = self.dropout2(ffn_output, training=training)\n",
        "        return self.layernorm2(out1 + ffn_output)\n"
      ],
      "execution_count": null,
      "outputs": []
    },
    {
      "cell_type": "markdown",
      "metadata": {
        "id": "BepQG-vwTMNv"
      },
      "source": [
        "## Implement embedding layer\n",
        "\n",
        "Two seperate embedding layers, one for tokens, one for token index (positions)."
      ]
    },
    {
      "cell_type": "code",
      "metadata": {
        "id": "HDNFDgb_Yb9y"
      },
      "source": [
        "class PositionEmbedding(layers.Layer):\n",
        "    def __init__(self, maxlen, embed_dim):\n",
        "        super(PositionEmbedding, self).__init__()\n",
        "        #self.token_emb = layers.Embedding(input_dim=vocab_size, output_dim=embed_dim)\n",
        "        self.pos_emb = layers.Embedding(input_dim=maxlen, output_dim=embed_dim)\n",
        "\n",
        "    def call(self, x):\n",
        "        maxlen = tf.shape(x)[-2]\n",
        "        positions = tf.range(start=0, limit=maxlen, delta=1)\n",
        "        positions = self.pos_emb(positions)\n",
        "        #x = self.token_emb(x)\n",
        "        return x + positions\n"
      ],
      "execution_count": null,
      "outputs": []
    },
    {
      "cell_type": "markdown",
      "metadata": {
        "id": "j53nit2lTMNw"
      },
      "source": [
        "## Download and prepare dataset"
      ]
    },
    {
      "cell_type": "code",
      "metadata": {
        "colab": {
          "base_uri": "https://localhost:8080/"
        },
        "id": "AoML4kDRqiFv",
        "outputId": "9dea6f86-b721-4f9b-dfa6-d8a5a3ebd055"
      },
      "source": [
        "drive.mount('/content/drive/')"
      ],
      "execution_count": null,
      "outputs": [
        {
          "output_type": "stream",
          "text": [
            "Mounted at /content/drive/\n"
          ],
          "name": "stdout"
        }
      ]
    },
    {
      "cell_type": "code",
      "metadata": {
        "id": "PiZBLiK-qnjU"
      },
      "source": [
        "df= pd.read_csv('/content/drive/MyDrive/Research data/MeggitSummaryCSV.csv')"
      ],
      "execution_count": null,
      "outputs": []
    },
    {
      "cell_type": "code",
      "metadata": {
        "id": "dr70GkjCreYr"
      },
      "source": [
        "Xdf=df.iloc[:,2:18]\n",
        "Xdf=Xdf.values\n",
        "ydf=df.iloc[:,-1]\n",
        "ydf=ydf.values"
      ],
      "execution_count": null,
      "outputs": []
    },
    {
      "cell_type": "code",
      "metadata": {
        "colab": {
          "base_uri": "https://localhost:8080/"
        },
        "id": "UimUXKyv_b-_",
        "outputId": "a357a5fa-fda6-40af-f962-4319e718df8d"
      },
      "source": [
        "Xdf.shape,ydf.shape"
      ],
      "execution_count": null,
      "outputs": [
        {
          "output_type": "execute_result",
          "data": {
            "text/plain": [
              "((394716, 16), (394716,))"
            ]
          },
          "metadata": {},
          "execution_count": 9
        }
      ]
    },
    {
      "cell_type": "code",
      "metadata": {
        "id": "pdHxi5wcreVa"
      },
      "source": [
        "def prepareData(X,y,W,s_W):\n",
        "  #X,y = removeNAN(X,y)\n",
        "  #X,y = removeNULL(X,y)\n",
        "  # Standardizing with z-score\n",
        "  #X = stats.zscore(X,axis = 0)\n",
        "  X_data=list()\n",
        "  y_data=list()\n",
        "  \n",
        "  L=0\n",
        "  R=W\n",
        "  \n",
        "  while(R <= X.shape[0]):\n",
        "      #print('{}:{}'.format(L,R))\n",
        "      sample=X[L:R]\n",
        "      label=y[L:R]\n",
        "      if len(set(label))==1 and len(label)==W:\n",
        "          X_data.append(sample)\n",
        "          y_data.append(label[0])\n",
        "\n",
        "      L=L+s_W\n",
        "      R=R+s_W\n",
        "\n",
        "  X=np.array(X_data)\n",
        "  y=np.array(y_data)\n",
        "  return X,y"
      ],
      "execution_count": null,
      "outputs": []
    },
    {
      "cell_type": "code",
      "metadata": {
        "id": "CSuCIjCYreST"
      },
      "source": [
        "import numpy as np\n",
        "W=120\n",
        "s_W=60\n",
        "#dataX, datay = prepareData(X,y,W,s_W)\n",
        "dataX, datay = prepareData(Xdf,ydf,W,s_W)"
      ],
      "execution_count": null,
      "outputs": []
    },
    {
      "cell_type": "code",
      "metadata": {
        "colab": {
          "base_uri": "https://localhost:8080/"
        },
        "id": "1d7nywtPr4D3",
        "outputId": "9d728f2d-8147-4ff6-b6f7-d8a9b139f6fd"
      },
      "source": [
        "dataX.shape,datay.shape"
      ],
      "execution_count": null,
      "outputs": [
        {
          "output_type": "execute_result",
          "data": {
            "text/plain": [
              "((6567, 120, 16), (6567,))"
            ]
          },
          "metadata": {},
          "execution_count": 12
        }
      ]
    },
    {
      "cell_type": "code",
      "metadata": {
        "id": "vjaTV6_Z2deW"
      },
      "source": [
        "def load_dataset():\n",
        "  X_train, X_val, y_train, y_val = train_test_split(dataX[:,:,:], datay[:], test_size=0.20, random_state=1)\n",
        "  X_train, X_test, y_train, y_test = train_test_split(X_train[:,:,:], y_train[:], test_size=0.10, random_state=1)\n",
        "  return X_train, X_test, X_val, y_train, y_test, y_val"
      ],
      "execution_count": null,
      "outputs": []
    },
    {
      "cell_type": "markdown",
      "metadata": {
        "id": "LR_dijOJTMNw"
      },
      "source": [
        "## Create classifier model using transformer layer\n",
        "\n",
        "Transformer layer outputs one vector for each time step of our input sequence.\n",
        "Here, we take the mean across all time steps and\n",
        "use a feed forward network on top of it to classify text."
      ]
    },
    {
      "cell_type": "markdown",
      "metadata": {
        "id": "hWy2rPIMTMNx"
      },
      "source": [
        "## Train and Evaluate"
      ]
    },
    {
      "cell_type": "code",
      "metadata": {
        "id": "lg1ASGyKvUrV"
      },
      "source": [
        "import time\n",
        "def evaluate_model(X_train, y_train, X_val, y_val, X_test, y_test, epochs):\n",
        "    maxlen=120\n",
        "    embed_dim = 16  # Embedding size for each token\n",
        "    num_heads = 2  # Number of attention heads\n",
        "    ff_dim = 32  # Hidden layer size in feed forward network inside transformer\n",
        "    #epochs = 50\n",
        "    Verbose = 0\n",
        "    Batch_size=84\n",
        "\n",
        "    inputs = layers.Input(shape=(maxlen,embed_dim))\n",
        "    embedding_layer = PositionEmbedding(maxlen, embed_dim)\n",
        "    x = embedding_layer(inputs)\n",
        "    transformer_block = TransformerBlock(maxlen, embed_dim, num_heads, ff_dim)\n",
        "    x = transformer_block(x)\n",
        "    x = layers.GlobalAveragePooling1D()(x)\n",
        "    x = layers.Dropout(0.1)(x)\n",
        "    #x = layers.Dense(10, activation=\"relu\")(x)\n",
        "    #x = layers.Dropout(0.1)(x)\n",
        "    outputs = layers.Dense(6, activation=\"softmax\")(x)\n",
        "\n",
        "    model = keras.Model(inputs=inputs, outputs=outputs)\n",
        "\n",
        "    model.compile(\"adam\", \"sparse_categorical_crossentropy\", metrics=[\"accuracy\"])\n",
        "    \n",
        "    tictr = time.perf_counter()\n",
        "    history=model.fit(X_train, y_train, batch_size=Batch_size, epochs=epochs, validation_data=(X_val, y_val), verbose=Verbose)\n",
        "    toctr = time.perf_counter()\n",
        "    training_time = toctr-tictr\n",
        "\n",
        "    # evaluate model\n",
        "    pred = model.predict(X_test)\n",
        "\n",
        "    tict=time.perf_counter()\n",
        "    _, accuracy = model.evaluate(X_test, y_test, batch_size=Batch_size, verbose=Verbose)\n",
        "    toct=time.perf_counter()\n",
        "    testing_time = toct-tict\n",
        "\n",
        "\n",
        "    return accuracy, history ,y_test, pred, training_time, testing_time"
      ],
      "execution_count": null,
      "outputs": []
    },
    {
      "cell_type": "code",
      "metadata": {
        "id": "Iz4VFd_Y1qL1"
      },
      "source": [
        "def summarize_results(scores):\n",
        "    print(scores)\n",
        "    m, s = mean(scores), std(scores)\n",
        "    print('Accuracy: %.3f%% (+/-%.3f)' % (m, s))\n",
        "    \n",
        "    fullCatWriter = pd.ExcelWriter('/A+LSTM_Result.xlsx', engine='xlsxwriter')     \n",
        "    dataframe1 = pd.DataFrame(scores, columns =['Accuracy'], dtype = float)            \n",
        "    dataframe1.to_excel(fullCatWriter, sheet_name='Full Raw', startrow=0 , startcol=0)            \n",
        "    fullCatWriter.save()      \n",
        "    fullCatWriter.close()  "
      ],
      "execution_count": null,
      "outputs": []
    },
    {
      "cell_type": "code",
      "metadata": {
        "id": "lR9cc5wDExwZ"
      },
      "source": [
        "def exec_time(tstimel, trtimel):\n",
        "    dict={'training_time':trtimel, 'testing_time':tstimel}\n",
        "    fullCatWriter = pd.ExcelWriter('/A+FFN_execution_time.xlsx', engine='xlsxwriter')     \n",
        "    dataframe1 = pd.DataFrame(data=dict, dtype = float)            \n",
        "    dataframe1.to_excel(fullCatWriter, sheet_name='Full Raw', startrow=0 , startcol=0)            \n",
        "    fullCatWriter.save()      \n",
        "    fullCatWriter.close()"
      ],
      "execution_count": null,
      "outputs": []
    },
    {
      "cell_type": "code",
      "metadata": {
        "id": "SN2WObtbzfvq"
      },
      "source": [
        "import matplotlib.pyplot as plt\n",
        "def plot_learning_curves(history,epochs,ind):\n",
        "  hacc=np.array(history.history['accuracy'])\n",
        "  hvacc=np.array(history.history['val_accuracy'])\n",
        "  loss=np.array(history.history['loss'])\n",
        "  vloss=np.array(history.history['val_loss'])\n",
        "\n",
        "  u = np.arange(0, epochs) \n",
        "  plt.plot(u,hacc)\n",
        "  plt.plot(u,hvacc)\n",
        "  plt.title('Model Accuracy')\n",
        "  plt.ylabel('Accuracy')\n",
        "  plt.xlabel('Epoch')\n",
        "  plt.legend(['train','val'], loc='lower right')\n",
        "  fig1 = plt.gcf()\n",
        "  plt.show()\n",
        "  fig1.savefig(\"A+LSTM_acc%d.pdf\"%ind)\n",
        "\n",
        "  plt.plot(u,loss)\n",
        "  plt.plot(u,vloss)\n",
        "  plt.title('Model loss')\n",
        "  plt.ylabel('Loss')\n",
        "  plt.xlabel('Epoch')\n",
        "  plt.legend(['train','val'], loc='upper right')\n",
        "  fig2 = plt.gcf()\n",
        "  plt.show()\n",
        "  fig2.savefig(\"A+LSTM_loss%d.pdf\"%ind)"
      ],
      "execution_count": null,
      "outputs": []
    },
    {
      "cell_type": "code",
      "metadata": {
        "id": "z3UEAa1C0dVQ"
      },
      "source": [
        ""
      ],
      "execution_count": null,
      "outputs": []
    },
    {
      "cell_type": "code",
      "metadata": {
        "id": "I18zjEFV_KFb"
      },
      "source": [
        "from sklearn.metrics import classification_report\n",
        "import seaborn as sn\n",
        "from mlxtend.plotting import plot_confusion_matrix\n",
        "from sklearn.metrics import confusion_matrix\n",
        "def plot_CM_and_find_prec_rec_f1(y,pred,ind):\n",
        "  pred=np.argmax(pred, axis=-1)\n",
        "  \n",
        "  labels=['HL','S_UB','C_UB', 'D_UB', 'MA', 'LS']\n",
        "  mat=confusion_matrix(y,pred)\n",
        "  mat=mat/mat.astype(np.float).sum(axis=1)\n",
        "\n",
        "  df_cm = pd.DataFrame(mat, range(6), range(6))\n",
        "  sn.set(font_scale=1.0) # for label size\n",
        "  fig=sn.heatmap(df_cm,cmap=\"Blues\", annot=True, annot_kws={\"size\": 14}, square=True, xticklabels=labels, yticklabels=labels) # font size\n",
        "  fig.set(xlabel=\"Predicted Label\", ylabel = \"True Label\")\n",
        "  plt.yticks(rotation=0)\n",
        "  plt.savefig('A+LSTM_CMsb%d.pdf'%ind, bbox_inches='tight')\n",
        "  plt.show()\n",
        "  \n",
        "  Report=pd.DataFrame(classification_report(y, pred, target_names=labels, output_dict=True))\n",
        "  Report.to_csv('/A+LSTM_Classification_Report%d.csv'%ind, index = True)"
      ],
      "execution_count": null,
      "outputs": []
    },
    {
      "cell_type": "code",
      "metadata": {
        "id": "RVnpY-Ydu4vR"
      },
      "source": [
        "def run_experiment(epochs, repeats=2):\n",
        "\t# load data\n",
        "\t# repeat experiment\n",
        "  scores = list()\n",
        "  trtimelst = list()\n",
        "  tstimelst = list()\n",
        "\n",
        "  X_train, X_test, X_val, y_train, y_test, y_val = load_dataset()\n",
        "  for r in range(repeats):\n",
        "    score,history,y,pred,trtime,tstime = evaluate_model(X_train, y_train, X_val, y_val, X_test, y_test, epochs)\n",
        "    score = score * 100.0\n",
        "    print('>#%d: %.3f' % (r+1, score))\n",
        "    print('>#%d: %0.4f'%(r+1,trtime))\n",
        "    print('>#%d: %0.4f'%(r+1,tstime))\n",
        "\n",
        "    scores.append(score)\n",
        "    trtimelst.append(trtime)\n",
        "    tstimelst.append(tstime)\n",
        "\n",
        "    plot_learning_curves(history, epochs, r)\n",
        "    \n",
        "    plot_CM_and_find_prec_rec_f1(y, pred, r)\n",
        "  \n",
        "  summarize_results(scores)\n",
        "  exec_time(trtimel=trtimelst, tstimel=tstimelst)"
      ],
      "execution_count": null,
      "outputs": []
    },
    {
      "cell_type": "code",
      "metadata": {
        "colab": {
          "base_uri": "https://localhost:8080/",
          "height": 1000
        },
        "id": "6YxsPpxgu7bt",
        "outputId": "8ddc6793-b594-49d0-923e-946bb73cb266"
      },
      "source": [
        "epochs= 70\n",
        "run_experiment(epochs)"
      ],
      "execution_count": null,
      "outputs": [
        {
          "output_type": "stream",
          "text": [
            ">#1: 98.479\n",
            ">#1: 685.0702\n",
            ">#1: 0.4354\n"
          ],
          "name": "stdout"
        },
        {
          "output_type": "display_data",
          "data": {
            "image/png": "[encoded data removed]",
            "text/plain": [
              "<Figure size 432x288 with 1 Axes>"
            ]
          },
          "metadata": {}
        },
        {
          "output_type": "display_data",
          "data": {
            "image/png": "[encoded data removed]",
            "text/plain": [
              "<Figure size 432x288 with 1 Axes>"
            ]
          },
          "metadata": {}
        },
        {
          "output_type": "display_data",
          "data": {
            "image/png": "[encoded data removed]",
            "text/plain": [
              "<Figure size 432x288 with 2 Axes>"
            ]
          },
          "metadata": {}
        },
        {
          "output_type": "stream",
          "text": [
            ">#2: 99.620\n",
            ">#2: 670.9575\n",
            ">#2: 0.4077\n"
          ],
          "name": "stdout"
        },
        {
          "output_type": "display_data",
          "data": {
            "image/png": "[encoded data removed]",
            "text/plain": [
              "<Figure size 432x288 with 1 Axes>"
            ]
          },
          "metadata": {}
        },
        {
          "output_type": "display_data",
          "data": {
            "image/png": "[encoded data removed]",
            "text/plain": [
              "<Figure size 432x288 with 1 Axes>"
            ]
          },
          "metadata": {}
        },
        {
          "output_type": "display_data",
          "data": {
            "image/png": "[encoded data removed]",
            "text/plain": [
              "<Figure size 432x288 with 2 Axes>"
            ]
          },
          "metadata": {}
        },
        {
          "output_type": "stream",
          "text": [
            "[98.47908616065979, 99.61977005004883]\n",
            "Accuracy: 99.049% (+/-0.570)\n"
          ],
          "name": "stdout"
        },
        {
          "output_type": "stream",
          "text": [
            "/usr/local/lib/python3.7/dist-packages/xlsxwriter/workbook.py:338: UserWarning: Calling close() on already closed file.\n",
            "  warn(\"Calling close() on already closed file.\")\n"
          ],
          "name": "stderr"
        }
      ]
    },
    {
      "cell_type": "code",
      "metadata": {
        "id": "hqpdbcJaoLOa"
      },
      "source": [
        ""
      ],
      "execution_count": null,
      "outputs": []
    },
    {
      "cell_type": "code",
      "metadata": {
        "id": "CHzNdZcs-oUc"
      },
      "source": [
        ""
      ],
      "execution_count": null,
      "outputs": []
    },
    {
      "cell_type": "code",
      "metadata": {
        "id": "-xCxR7MT-oRG"
      },
      "source": [
        ""
      ],
      "execution_count": null,
      "outputs": []
    },
    {
      "cell_type": "code",
      "metadata": {
        "id": "gWSfMloO-oHa"
      },
      "source": [
        ""
      ],
      "execution_count": null,
      "outputs": []
    },
    {
      "cell_type": "code",
      "metadata": {
        "id": "DawEs2a--oEJ"
      },
      "source": [
        ""
      ],
      "execution_count": null,
      "outputs": []
    },
    {
      "cell_type": "markdown",
      "metadata": {
        "id": "bTmbMDw8n5Cz"
      },
      "source": [
        "#ROUGH EXPERIMENTATION"
      ]
    },
    {
      "cell_type": "code",
      "metadata": {
        "id": "AJpWd0Me-oBR"
      },
      "source": [
        "X_train, X_val, y_train, y_val = train_test_split(dataX[:,:,:], datay[:], test_size=0.20, random_state=1)\n",
        "X_train, X_test, y_train, y_test = train_test_split(X_train[:,:,:], y_train[:], test_size=0.10, random_state=1)"
      ],
      "execution_count": null,
      "outputs": []
    },
    {
      "cell_type": "code",
      "metadata": {
        "colab": {
          "base_uri": "https://localhost:8080/"
        },
        "id": "QctlBPIoAkph",
        "outputId": "f55b954e-4ae5-4cc8-da90-c88d9f0a5e12"
      },
      "source": [
        "X_train.shape"
      ],
      "execution_count": null,
      "outputs": [
        {
          "output_type": "execute_result",
          "data": {
            "text/plain": [
              "(4727, 120, 16)"
            ]
          },
          "metadata": {
            "tags": []
          },
          "execution_count": 23
        }
      ]
    },
    {
      "cell_type": "code",
      "metadata": {
        "colab": {
          "base_uri": "https://localhost:8080/"
        },
        "id": "mentxULiAoTc",
        "outputId": "c38f3b5c-dc94-4dd9-bd85-d539cbfbec7d"
      },
      "source": [
        "X_val.shape"
      ],
      "execution_count": null,
      "outputs": [
        {
          "output_type": "execute_result",
          "data": {
            "text/plain": [
              "(1314, 120, 16)"
            ]
          },
          "metadata": {
            "tags": []
          },
          "execution_count": 24
        }
      ]
    },
    {
      "cell_type": "code",
      "metadata": {
        "colab": {
          "base_uri": "https://localhost:8080/"
        },
        "id": "O02VartfAqJ_",
        "outputId": "861213a3-17a6-44c4-b057-83a660ecaa33"
      },
      "source": [
        "X_test.shape"
      ],
      "execution_count": null,
      "outputs": [
        {
          "output_type": "execute_result",
          "data": {
            "text/plain": [
              "(526, 120, 16)"
            ]
          },
          "metadata": {
            "tags": []
          },
          "execution_count": 25
        }
      ]
    },
    {
      "cell_type": "code",
      "metadata": {
        "id": "d_fS5dVZ8Vjs"
      },
      "source": [
        "#X_train, X_test, y_train, y_test = train_test_split(dataX[:,:,:], datay[:], test_size=0.20, random_state=1)"
      ],
      "execution_count": null,
      "outputs": []
    },
    {
      "cell_type": "code",
      "metadata": {
        "id": "P9IyPDjt1sPf"
      },
      "source": [
        "maxlen=120\n",
        "embed_dim = 16  # Embedding size for each token\n",
        "num_heads = 2  # Number of attention heads\n",
        "ff_dim = 32  # Hidden layer size in feed forward network inside transformer\n",
        "epochs = 5\n",
        "Verbose = 0\n",
        "Batch_size=84\n",
        "\n",
        "inputs = layers.Input(shape=(maxlen,embed_dim))\n",
        "embedding_layer = PositionEmbedding(maxlen, embed_dim)\n",
        "x = embedding_layer(inputs)\n",
        "transformer_block = TransformerBlock(maxlen, embed_dim, num_heads, ff_dim)\n",
        "x = transformer_block(x)\n",
        "x = layers.GlobalAveragePooling1D()(x)\n",
        "x = layers.Dropout(0.1)(x)\n",
        "x = layers.Dense(20, activation=\"relu\")(x)\n",
        "x = layers.Dropout(0.1)(x)\n",
        "outputs = layers.Dense(6, activation=\"softmax\")(x)\n",
        "\n",
        "model = keras.Model(inputs=inputs, outputs=outputs)\n",
        "\n",
        "model.compile(\"adam\", \"sparse_categorical_crossentropy\", metrics=[\"accuracy\"])\n",
        "model.fit(X_train, y_train, batch_size=Batch_size, epochs=epochs, verbose=Verbose)\n"
      ],
      "execution_count": null,
      "outputs": []
    },
    {
      "cell_type": "code",
      "metadata": {
        "id": "n-nXx1-x11Gc"
      },
      "source": [
        "pred=model.predict(X_test[0:3])\n",
        "np.argmax(pred, axis=-1)"
      ],
      "execution_count": null,
      "outputs": []
    },
    {
      "cell_type": "code",
      "metadata": {
        "id": "Echq4TZi17yb"
      },
      "source": [
        "y_test[0:3]"
      ],
      "execution_count": null,
      "outputs": []
    },
    {
      "cell_type": "code",
      "metadata": {
        "id": "sAUBQ6y6198u"
      },
      "source": [
        ""
      ],
      "execution_count": null,
      "outputs": []
    },
    {
      "cell_type": "code",
      "metadata": {
        "id": "6MknfwIM5W_b"
      },
      "source": [
        "maxlen=120\n",
        "embed_dim = 16  # Embedding size for each token\n",
        "num_heads = 2  # Number of attention heads\n",
        "ff_dim = 32  # Hidden layer size in feed forward network inside transformer\n",
        "epochs = 5\n",
        "Verbose = 0\n",
        "Batch_size=84\n",
        "\n",
        "inputs = layers.Input(shape=(maxlen,embed_dim))\n",
        "embedding_layer = PositionEmbedding(maxlen, embed_dim)\n",
        "x = embedding_layer(inputs)\n",
        "transformer_block = TransformerBlock(maxlen, embed_dim, num_heads, ff_dim)\n",
        "x = transformer_block(x)\n",
        "x = layers.GlobalAveragePooling1D()(x)\n",
        "x = layers.Dropout(0.1)(x)\n",
        "#x = layers.Dense(20, activation=\"relu\")(x)\n",
        "x = layers.Dense(10, activation=\"relu\")(x)\n",
        "x = layers.Dropout(0.1)(x)\n",
        "outputs = layers.Dense(6, activation=\"softmax\")(x)\n",
        "\n",
        "model = keras.Model(inputs=inputs, outputs=outputs)\n",
        "\n",
        "model.compile(\"adam\", \"sparse_categorical_crossentropy\", metrics=[\"accuracy\"])"
      ],
      "execution_count": null,
      "outputs": []
    },
    {
      "cell_type": "code",
      "metadata": {
        "colab": {
          "base_uri": "https://localhost:8080/"
        },
        "id": "7YucXyoS-o6S",
        "outputId": "29746959-7f60-403d-e6ee-7004d47c9bbb"
      },
      "source": [
        "model.summary()"
      ],
      "execution_count": null,
      "outputs": [
        {
          "output_type": "stream",
          "text": [
            "Model: \"model_1\"\n",
            "_________________________________________________________________\n",
            "Layer (type)                 Output Shape              Param #   \n",
            "=================================================================\n",
            "input_3 (InputLayer)         [(None, 120, 16)]         0         \n",
            "_________________________________________________________________\n",
            "position_embedding_2 (Positi (None, 120, 16)           1920      \n",
            "_________________________________________________________________\n",
            "transformer_block_1 (Transfo (None, 120, 16)           16800     \n",
            "_________________________________________________________________\n",
            "global_average_pooling1d_1 ( (None, 16)                0         \n",
            "_________________________________________________________________\n",
            "dropout_6 (Dropout)          (None, 16)                0         \n",
            "_________________________________________________________________\n",
            "dense_6 (Dense)              (None, 10)                170       \n",
            "_________________________________________________________________\n",
            "dropout_7 (Dropout)          (None, 10)                0         \n",
            "_________________________________________________________________\n",
            "dense_7 (Dense)              (None, 6)                 66        \n",
            "=================================================================\n",
            "Total params: 18,956\n",
            "Trainable params: 18,956\n",
            "Non-trainable params: 0\n",
            "_________________________________________________________________\n"
          ],
          "name": "stdout"
        }
      ]
    },
    {
      "cell_type": "code",
      "metadata": {
        "id": "_jeO07XX-6ar"
      },
      "source": [
        ""
      ],
      "execution_count": null,
      "outputs": []
    },
    {
      "cell_type": "code",
      "metadata": {
        "id": "Geg1KG8M3X1I"
      },
      "source": [
        ""
      ],
      "execution_count": null,
      "outputs": []
    },
    {
      "cell_type": "code",
      "metadata": {
        "id": "uBXnFhtL3Xxp"
      },
      "source": [
        ""
      ],
      "execution_count": null,
      "outputs": []
    },
    {
      "cell_type": "code",
      "metadata": {
        "id": "dZv_GDwl3mqq"
      },
      "source": [
        ""
      ],
      "execution_count": null,
      "outputs": []
    },
    {
      "cell_type": "code",
      "metadata": {
        "id": "fCZ4sJDc3xrb"
      },
      "source": [
        "\n"
      ],
      "execution_count": null,
      "outputs": []
    },
    {
      "cell_type": "code",
      "metadata": {
        "id": "b7MXUZcf4sdN"
      },
      "source": [
        ""
      ],
      "execution_count": null,
      "outputs": []
    }
  ]
}