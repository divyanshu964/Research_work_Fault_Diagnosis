{
 "cells": [
  {
   "cell_type": "markdown",
   "metadata": {},
   "source": [
    "# Data Preparation\n",
    "**Author:** [Divyanshu Raghuwanshi](https://www.linkedin.com/in/divyanshu-raghuwanshi-85037b160/)<br>\n",
    "**Date created:** 2020/16/05<br>"
   ]
  },
  {
   "cell_type": "code",
   "execution_count": 1,
   "metadata": {},
   "outputs": [],
   "source": [
    "import pandas as pd\n",
    "import numpy as np\n",
    "from sklearn.model_selection import train_test_split\n",
    "from scipy import stats\n",
    "\n",
    "def removeNAN(X,y):\n",
    "    # index of rows containing NAN value\n",
    "    row_indices_NAN=np.isnan(X).any(axis=1)\n",
    "    # to check the range of nan values\n",
    "    L=-1\n",
    "    R=-1\n",
    "    flag=True\n",
    "    for i in range(0,len(row_indices_NAN)):\n",
    "        if (row_indices_NAN[i]==True and flag==True):\n",
    "            L=i\n",
    "            flag= False\n",
    "        elif(flag==False and (row_indices_NAN[i]==False or i==(len(row_indices_NAN)-1))):\n",
    "            flag=True\n",
    "            R=i-1\n",
    "            print('NAN values indices   :'+str(L)+\" --- \"+str(R))\n",
    "    X=X[~row_indices_NAN]\n",
    "    y=y[~row_indices_NAN]\n",
    "    return X,y\n",
    "\n",
    "def removeNULL(X,y):\n",
    "    # remove having course label Null=0\n",
    "    row_label_Null=(y==0)\n",
    "    X = X[~ row_label_Null]\n",
    "    y = y[~ row_label_Null]\n",
    "    return X,y\n",
    "\n",
    "def prepareData(X,y,W,s_W):\n",
    "# =============================================================================\n",
    "# RAW DATA\n",
    "# 0 Speed rpm\n",
    "# 1 CVX_Ampl [µm s_pp]\n",
    "# 2 CVY_Ampl [µm s_pp]\n",
    "# 3 SVX [µm t_pp]\n",
    "# 4 SVY [µm t_pp]\n",
    "# 5 SVX_1X_Ampl [µm s_pp]\n",
    "# 6 SVX_1X_Phase [° lag]\n",
    "# 7 SVX_2X_Ampl [µm s_pp]\n",
    "# 8 SVX_2X_Phase [° lag]\n",
    "# 9 SVX_3X_Ampl [µm s_pp]\n",
    "# 10 SVX_3X_Phase [° lag]\n",
    "# 11 SVY_1X_Ampl [µm s_pp]\n",
    "# 12 SVY_1X_Phase [° lag]\n",
    "# 13 SVY_2X_Ampl [µm s_pp]\n",
    "# 14 SVY_2X_Phase [° lag]\n",
    "# 15 SVY_3X_Ampl [µm s_pp]\n",
    "# 16 SVY_3X_Phase [° lag]\n",
    "\n",
    "# \n",
    "# LABELS\n",
    "# Column What\n",
    "# 0:'Healthy'\n",
    "# 1:'S_Imbalance'\n",
    "# 2:'C_Imbalance'\n",
    "# 3:'D_Imbalance'\n",
    "# 4:'Misalign'\n",
    "# 5:'Ped_loose'\n",
    "\n",
    "# =============================================================================\n",
    "    # select Acceleration (X,Y,Z),Gyroscope(X,Y,Z), Magnetometer(X,Y,Z)\n",
    "    X = X[:,1:4]\n",
    "    # select Coarse label\n",
    "    # remove NAN valuse from \n",
    "    X,y = removeNAN(X,y)\n",
    "    X,y = removeNULL(X,y)\n",
    "    X = stats.zscore(X,axis = 0)\n",
    "    X_data=list()\n",
    "    y_data=list()\n",
    "    \n",
    "    L=0\n",
    "    R=W\n",
    "    \n",
    "    while(R <= X.shape[0]):\n",
    "        #print('{}:{}'.format(L,R))\n",
    "        sample=X[L:R,:]\n",
    "        label=y[L:R]\n",
    "        if len(set(label))==1 and len(label)==W:\n",
    "            X_data.append(sample)\n",
    "            y_data.append(label[0])\n",
    "\n",
    "        L=L+s_W\n",
    "        R=R+s_W\n",
    "\n",
    "    X=np.array(X_data)\n",
    "    y=np.array(y_data)\n",
    "    return X,y\n",
    "\n",
    "def loadDataset(homePath,fileName):\n",
    "    filepath = homepath +'/'+ fileName\n",
    "    data = pd.read_csv(filepath)\n",
    "    data = data.iloc[:,2:]\n",
    "    data = data.values\n",
    "    X = data[:,:-1]\n",
    "    y = data[:,-1]\n",
    "    #np.save(user+'_data',X)\n",
    "    #np.save(user+'_labels',y)\n",
    "    return X,y\n",
    "\n",
    "def prepare_train_test(X,y):\n",
    "    # Standadizing with z-score\n",
    "    trainX, testX, trainy, testy = train_test_split(X, y, test_size=0.20, random_state=42)\n",
    "    print(trainX.shape, trainy.shape, testX.shape, testy.shape)\n",
    "    return trainX, trainy, testX, testy"
   ]
  },
  {
   "cell_type": "code",
   "execution_count": 4,
   "metadata": {},
   "outputs": [
    {
     "name": "stdout",
     "output_type": "stream",
     "text": [
      "(4338, 120, 16) (4338,) (1085, 120, 16) (1085,)\n"
     ]
    }
   ],
   "source": [
    "W = 120\n",
    "s_W = 60\n",
    "\n",
    "homepath = '/home/aneesh/Python_Codes/Data/SRF_Data/Summary_Data'\n",
    "filepath = 'MeggitSummaryCSV.csv'\n",
    "X,y = loadDataset(homepath, filepath)\n",
    "dataX, datay = prepareData(X,y,W,s_W)\n",
    "trainX, trainy, testX, testy = prepare_train_test(dataX,datay)"
   ]
  },
  {
   "cell_type": "code",
   "execution_count": 5,
   "metadata": {},
   "outputs": [],
   "source": [
    "np.save(homepath+'/Train_data',trainX)\n",
    "np.save(homepath+'/Train_labels',trainy)\n",
    "np.save(homepath+'/Test_data',testX)\n",
    "np.save(homepath+'/Test_labels',testy)"
   ]
  },
  {
   "cell_type": "code",
   "execution_count": 6,
   "metadata": {},
   "outputs": [],
   "source": [
    "X = np.load(homepath+'/Test_data.npy')"
   ]
  },
  {
   "cell_type": "code",
   "execution_count": null,
   "metadata": {},
   "outputs": [],
   "source": []
  },
  {
   "cell_type": "code",
   "execution_count": 89,
   "metadata": {},
   "outputs": [],
   "source": [
    "# def load_dataset():\n",
    "# #     X_U1R = np.load('User1_w512_s256_data.npy')\n",
    "# #     X_U2R = np.load('User2_w512_s256_data.npy')\n",
    "# #     X_U3R = np.load('User3_w512_s256_data.npy')\n",
    "\n",
    "# #     y_U1R = np.load('User1_w512_s256_y.npy')\n",
    "# #     y_U2R = np.load('User2_w512_s256_y.npy')\n",
    "# #     y_U3R = np.load('User3_w512_s256_y.npy')\n",
    "    \n",
    "#     X_U1R = np.load('User1_w512_s512_data.npy')\n",
    "#     X_U2R = np.load('User2_w512_s512_data.npy')\n",
    "#     X_U3R = np.load('User3_w512_s512_data.npy')\n",
    "\n",
    "#     y_U1R = np.load('User1_w512_s512_y.npy')\n",
    "#     y_U2R = np.load('User2_w512_s512_y.npy')\n",
    "#     y_U3R = np.load('User3_w512_s512_y.npy')\n",
    "    \n",
    "#     X=np.concatenate((X_U1R, X_U2R,X_U3R), axis=0)\n",
    "#     y=np.concatenate((y_U1R, y_U2R,y_U3R), axis=0) \n",
    "    \n",
    "#     y = y-1\n",
    "#     return X, y"
   ]
  },
  {
   "cell_type": "code",
   "execution_count": null,
   "metadata": {},
   "outputs": [],
   "source": []
  },
  {
   "cell_type": "code",
   "execution_count": 91,
   "metadata": {},
   "outputs": [],
   "source": [
    "# # set parameters\n",
    "# X,y = load_dataset()\n",
    "# trainX, trainy, testX, testy = prepare_train_test(X,y)"
   ]
  },
  {
   "cell_type": "code",
   "execution_count": null,
   "metadata": {},
   "outputs": [],
   "source": []
  }
 ],
 "metadata": {
  "kernelspec": {
   "display_name": "Python 3",
   "language": "python",
   "name": "python3"
  },
  "language_info": {
   "codemirror_mode": {
    "name": "ipython",
    "version": 3
   },
   "file_extension": ".py",
   "mimetype": "text/x-python",
   "name": "python",
   "nbconvert_exporter": "python",
   "pygments_lexer": "ipython3",
   "version": "3.6.8"
  }
 },
 "nbformat": 4,
 "nbformat_minor": 4
}
