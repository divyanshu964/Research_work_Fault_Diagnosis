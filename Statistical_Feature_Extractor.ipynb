{
 "cells": [
  {
   "cell_type": "markdown",
   "metadata": {},
   "source": [
    "# Statistical Feature Extractor\n",
    "**Author:** [Divyanshu Raghuwanshi](https://www.linkedin.com/in/divyanshu-raghuwanshi-85037b160/)<br>\n",
    "**Date created:** 2020/16/05<br>"
   ]
  },
  {
   "cell_type": "code",
   "execution_count": 1,
   "metadata": {},
   "outputs": [],
   "source": [
    "import numpy as np\n",
    "import pandas as pd\n",
    "from pandas import DataFrame, Series\n",
    "import matplotlib.pyplot as plt\n",
    "from statistics import variance \n",
    "from scipy import stats\n",
    "from scipy.fftpack import fft, ifft\n",
    "import matplotlib as mpl\n",
    "#from agnfunctions import mkdir_p\n",
    "import h5py\n",
    "import itertools # To create chain of lists of diff category features(optional) \n",
    "%matplotlib inline"
   ]
  },
  {
   "cell_type": "code",
   "execution_count": 2,
   "metadata": {},
   "outputs": [],
   "source": [
    "#FILE_TYPES = ['Healthy','S_Imbalance','C_Imbalance','D_Imbalance', 'Misalign', 'Ped_Loose']   #['U_Damp','NU_Damp','L_Sensors','L_Casing','L_CasingU_Damp','L_CasingNU_Damp']\n",
    "#RPM = ['750', '1500', '2250', '3000', '3250']  #input('Input RPM ')\n",
    "\n",
    "FEATURE_NAME = ['CVX_Ampl','CVY_Ampl','SVX','SVY']   #['Speed',,'SVX_1X_Ampl','SVX_1X_Phase','SVX_2X_Ampl','SVX_2X_Phase','SVX_3X_Ampl','SVX_3X_Phase','SVY_1X_Ampl','SVY_1X_Phase','SVY_2X_Ampl','SVY_2X_Phase','SVY_3X_Ampl','SVY_3X_Phase']\n",
    "Label_code = {'Healthy':0,'S_Imbalance':1,'C_Imbalance':2, 'D_Imbalance':3, 'Misalign':4, 'Ped_Loose':5}   #{'U_Damp':3,'NU_Damp':4,'L_Sensors':5,'L_Casing':6,'L_CasingU_Damp':7,'L_CasingNU_Damp':8}\n",
    "NEW_FEATURE_NAME=['Mean', 'STD', 'Var', 'RMS', 'Kurtosis']   #['Avg.Speed', 'AbsMax', 'CoSkew', 'CrestF', 'MarginF', 'ShapeF', 'ImpulseF','A_Fact','B_Fact','Label']"
   ]
  },
  {
   "cell_type": "code",
   "execution_count": 3,
   "metadata": {},
   "outputs": [],
   "source": [
    "import errno    \n",
    "import os\n",
    "\n",
    "def mkdir_p(path):\n",
    "    try:\n",
    "        os.makedirs(path)\n",
    "    except OSError as exc:  # Python ≥ 2.5\n",
    "        if exc.errno == errno.EEXIST and os.path.isdir(path):\n",
    "            pass\n",
    "        else:\n",
    "            raise"
   ]
  },
  {
   "cell_type": "code",
   "execution_count": 4,
   "metadata": {},
   "outputs": [],
   "source": [
    "def prepend(list, str): \n",
    "      \n",
    "    # Using format() \n",
    "    str += '{0}'\n",
    "    list = [str.format(i) for i in list] \n",
    "    return(list)"
   ]
  },
  {
   "cell_type": "code",
   "execution_count": 6,
   "metadata": {},
   "outputs": [],
   "source": [
    "df_fullCatList = []  \n",
    "\n",
    "outname = 'MeggitSummary.xlsx'\n",
    "output_dir = \"D:\\\\kit.me\\\\LSTM Codes and Data\\\\Summary_Data\" #\"C:\\\\Users\\\\hp\\\\AGN\\\\FeaturesExp\"\n",
    "outfname = output_dir +'/'+ outname \n",
    "\n",
    "\n",
    "mkdir_p(output_dir)\n",
    "\n",
    "partCatWriter = pd.ExcelWriter(outfname, engine='xlsxwriter')\n",
    "df_lst = []    \n",
    "    \n",
    "df_feature = pd.DataFrame()    \n",
    "        \n",
    "        \n",
    "infname = 'D:\\\\kit.me\\\\working_data\\\\Data\\\\Summary_Data\\\\MeggitSummary.xlsx'\n",
    "xlsfile = pd.ExcelFile(infname)\n",
    "dframe = xlsfile.parse('Full Raw')\n",
    "\n",
    "N = dframe[0].count()\n",
    "W_Size = 200        # 10 minutes observation\n",
    "\n",
    "#df_label=pd.DataFrame(columns=['Label'])\n",
    "\n",
    "for i in range(18):\n",
    "    if(i==1 or i==2 or i==3 or i==4):\n",
    "\n",
    "        wf_dframe = dframe[i]\n",
    "        labbel=dframe[17]\n",
    "\n",
    "        nfn=[NEW_FEATURE_NAME]\n",
    "\n",
    "        o=0\n",
    "        \n",
    "        df_feature1 = pd.DataFrame(columns=nfn) #, 'AbsMax', 'CoSkew', 'Kurtosis', 'CrestF', 'MarginF', 'ShapeF', 'ImpulseF','A_Fact','B_Fact','Label'])\n",
    "        \n",
    "        for idx in range(0, N, W_Size):\n",
    "            if(o<6):\n",
    "                if(labbel[idx]==labbel[idx+W_Size-1]==o):\n",
    "                    part_dframe = dframe[i][idx:idx+W_Size]\n",
    "                    N_part = part_dframe.count()\n",
    "                    part_dlist = part_dframe.tolist()\n",
    "\n",
    "                    part_mean = part_dframe.mean()\n",
    "                    part_std = part_dframe.std()\n",
    "                    part_var = variance(part_dframe)\n",
    "                    part_RMS = np.sqrt(np.sum(np.square(part_dlist))/N_part)\n",
    "                    part_kurtosis = np.sum(np.subtract(part_dlist,part_mean)**4)/((N_part-1)*part_std**4)\n",
    "\n",
    "\n",
    "                    Label_c = o\n",
    "                    \n",
    "                    #df_label[0][x]=o\n",
    "                    #x+=1\n",
    "                    #df_label.append(pd.Series([o], index=['Label']), ignore_index=True)\n",
    "                    \n",
    "                    df_feature1 = df_feature1.append(pd.Series([part_mean, part_std, part_var, part_RMS, part_kurtosis], \n",
    "                                                             index=nfn), ignore_index=True)\n",
    "\n",
    "                else:\n",
    "                    o=o+1\n",
    "                    continue\n",
    "            \n",
    "        df_feature=pd.concat([df_feature, df_feature1], axis=1, sort=False)\n",
    "        \n",
    "df_label=pd.DataFrame(columns=['Label'])\n",
    "labbel=dframe[17]\n",
    "o=0\n",
    "for idx in range(0, N, W_Size):\n",
    "    if(o<6):\n",
    "        if(labbel[idx]==labbel[idx+W_Size-1]==o):\n",
    "            df_label=df_label.append(pd.Series([o], index=['Label']), ignore_index=True)\n",
    "            \n",
    "        else:\n",
    "            o=o+1\n",
    "            continue\n",
    "            \n",
    "df_feature=pd.concat([df_feature, df_label], axis=1, sort=False)\n",
    "\n",
    "\n",
    "\n",
    "#df_feature=pd.concat([df_feature, df_label], axis=1, sort=False)\n",
    "#print(df_label)\n",
    "\n",
    "df_lst.append(df_feature.values)   #Stores list of 'df_feature' dataframes. Each df_feature1 dataframe saves one feature(say CVX_Ampl..) and df_feature saves all features\n",
    "                 \n",
    "df_fullCatList.append(df_lst)  #Saves list of 'df_lst' lists. Each 'df_lst' saves complete file\n",
    "\n",
    "\n",
    "for dataframe in df_lst:\n",
    "    dataframe = pd.DataFrame(dataframe)\n",
    "    dataframe.to_excel(partCatWriter, sheet_name='Statistical_Features_basic',  startrow=0 , startcol=0) \n",
    "partCatWriter.save()      \n",
    "partCatWriter.close()\n",
    "\n"
   ]
  },
  {
   "cell_type": "code",
   "execution_count": null,
   "metadata": {},
   "outputs": [],
   "source": []
  },
  {
   "cell_type": "code",
   "execution_count": 9,
   "metadata": {},
   "outputs": [
    {
     "data": {
      "text/plain": [
       "<HDF5 dataset \"dataset_1\": shape (506, 240), type \"<f8\">"
      ]
     },
     "execution_count": 9,
     "metadata": {},
     "output_type": "execute_result"
    }
   ],
   "source": [
    "h5f = h5py.File('data.h5', 'w')\n",
    "In [5]: h5f.create_dataset('dataset_1', data=fullCatArray_Cln)"
   ]
  },
  {
   "cell_type": "code",
   "execution_count": null,
   "metadata": {},
   "outputs": [],
   "source": []
  }
 ],
 "metadata": {
  "kernelspec": {
   "display_name": "Python 3",
   "language": "python",
   "name": "python3"
  },
  "language_info": {
   "codemirror_mode": {
    "name": "ipython",
    "version": 3
   },
   "file_extension": ".py",
   "mimetype": "text/x-python",
   "name": "python",
   "nbconvert_exporter": "python",
   "pygments_lexer": "ipython3",
   "version": "3.6.8"
  }
 },
 "nbformat": 4,
 "nbformat_minor": 2
}
